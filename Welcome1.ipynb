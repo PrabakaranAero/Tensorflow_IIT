{
  "nbformat": 4,
  "nbformat_minor": 0,
  "metadata": {
    "colab": {
      "name": "Welcome1.ipynb",
      "version": "0.3.2",
      "provenance": [],
      "collapsed_sections": [],
      "include_colab_link": true
    },
    "kernelspec": {
      "name": "python3",
      "display_name": "Python 3"
    }
  },
  "cells": [
    {
      "cell_type": "markdown",
      "metadata": {
        "id": "view-in-github",
        "colab_type": "text"
      },
      "source": [
        "<a href=\"https://colab.research.google.com/github/PrabakaranAero/Tensorflow_IIT/blob/master/Welcome1.ipynb\" target=\"_parent\"><img src=\"https://colab.research.google.com/assets/colab-badge.svg\" alt=\"Open In Colab\"/></a>"
      ]
    },
    {
      "cell_type": "markdown",
      "metadata": {
        "id": "IxTB18JJ0i8Q",
        "colab_type": "text"
      },
      "source": [
        "Welcome to *collab*"
      ]
    },
    {
      "cell_type": "code",
      "metadata": {
        "id": "x6yrvpFhyiI5",
        "colab_type": "code",
        "colab": {}
      },
      "source": [
        "print('Hey')\n",
        "print('Hey')"
      ],
      "execution_count": 0,
      "outputs": []
    },
    {
      "cell_type": "markdown",
      "metadata": {
        "id": "mqxWWzZKz1U1",
        "colab_type": "text"
      },
      "source": [
        "![alt text](https://www.crockerriverside.org/sites/main/files/main-images/camera_lense_0.jpeg)\n",
        "\n",
        "\n",
        "\n"
      ]
    },
    {
      "cell_type": "code",
      "metadata": {
        "id": "g6nIGlLZ1nHM",
        "colab_type": "code",
        "colab": {}
      },
      "source": [
        ""
      ],
      "execution_count": 0,
      "outputs": []
    }
  ]
}